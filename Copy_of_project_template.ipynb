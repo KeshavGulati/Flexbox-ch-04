{
  "nbformat": 4,
  "nbformat_minor": 0,
  "metadata": {
    "colab": {
      "name": "Copy of project_template.ipynb",
      "provenance": [],
      "include_colab_link": true
    },
    "kernelspec": {
      "name": "python3",
      "display_name": "Python 3"
    },
    "language_info": {
      "name": "python"
    }
  },
  "cells": [
    {
      "cell_type": "markdown",
      "metadata": {
        "id": "view-in-github",
        "colab_type": "text"
      },
      "source": [
        "<a href=\"https://colab.research.google.com/github/KeshavGulati/Flexbox-ch-04/blob/master/Copy_of_project_template.ipynb\" target=\"_parent\"><img src=\"https://colab.research.google.com/assets/colab-badge.svg\" alt=\"Open In Colab\"/></a>"
      ]
    },
    {
      "cell_type": "markdown",
      "source": [
        "# Machine Learning Methods for Predicting Heart Failure\n",
        "### BigTh!nk AI Spring 2022\n",
        "Data from https://www.kaggle.com/datasets/andrewmvd/heart-failure-clinical-data?resource=download"
      ],
      "metadata": {
        "id": "bAg3gLd8talE"
      }
    },
    {
      "cell_type": "code",
      "execution_count": null,
      "metadata": {
        "id": "VWUECYPnllIA"
      },
      "outputs": [],
      "source": [
        "import numpy as np\n",
        "import pandas as pd\n",
        "import matplotlib.pyplot as plt"
      ]
    },
    {
      "cell_type": "markdown",
      "source": [
        "IMPORTANT: Please be sure to make your own copy of the notebook before running anything!"
      ],
      "metadata": {
        "id": "4_RYn4-t79b3"
      }
    },
    {
      "cell_type": "markdown",
      "source": [
        "# Data Collection\n",
        "In order to train a model, you first need data. Load in the requisite CSVs here."
      ],
      "metadata": {
        "id": "smniVY6_6aO8"
      }
    },
    {
      "cell_type": "code",
      "source": [
        "### DO NOT MODIFY THIS CELL ###\n",
        "!git clone https://github.com/BigThinkAI/spring2022-project-data.git\n",
        "!rm -rf ./spring2022-project-data/heart_failure_test.csv\n",
        "\n",
        "DATA_CSV = '/content/spring2022-project-data/heart_failure_train.csv'"
      ],
      "metadata": {
        "colab": {
          "base_uri": "https://localhost:8080/"
        },
        "id": "8E1DNf8Ws4Ol",
        "outputId": "b6e85b94-76c2-4dc5-c26e-e623e2e4a357"
      },
      "execution_count": null,
      "outputs": [
        {
          "output_type": "stream",
          "name": "stdout",
          "text": [
            "fatal: destination path 'spring2022-project-data' already exists and is not an empty directory.\n"
          ]
        }
      ]
    },
    {
      "cell_type": "code",
      "source": [
        "# Your code here"
      ],
      "metadata": {
        "id": "U7ubeqQftCmC"
      },
      "execution_count": null,
      "outputs": []
    },
    {
      "cell_type": "markdown",
      "source": [
        "# Feature Engineering\n",
        "In this part, you want to explore the data your given and see what features you can extract that will be useful for prediction."
      ],
      "metadata": {
        "id": "wN7SmmcE6Epa"
      }
    },
    {
      "cell_type": "code",
      "source": [
        "# Your code here"
      ],
      "metadata": {
        "id": "d9cF-gH66TtP"
      },
      "execution_count": null,
      "outputs": []
    },
    {
      "cell_type": "markdown",
      "source": [
        "# Model Selection\n",
        "Pick a model, whichever you choose! Train it up and see how it runs."
      ],
      "metadata": {
        "id": "03tiPE_F6u_a"
      }
    },
    {
      "cell_type": "code",
      "source": [
        "# Your code here"
      ],
      "metadata": {
        "id": "7G4LduUU6462"
      },
      "execution_count": null,
      "outputs": []
    },
    {
      "cell_type": "markdown",
      "source": [
        "# Testing Your Model\n",
        "While we're assessing you specifically on the trace of your confusion matrix, you're still required to present your methodology. With that in mind, do not hesitate to use a variety of metrics to justify your choices."
      ],
      "metadata": {
        "id": "Z8qWV-jl5p34"
      }
    },
    {
      "cell_type": "code",
      "source": [
        "### DO NOT MODIFY THIS CELL ###\n",
        "\n",
        "import seaborn as sns\n",
        "from sklearn.metrics import confusion_matrix\n",
        "\n",
        "def plot_confmat(true_labels, pred_labels):\n",
        "  \"\"\"\n",
        "  Plots a confusion matrix from given data and returns its trace\n",
        "  \"\"\"\n",
        "  fig2, ax = plt.subplots(1, 1, num=2, figsize=(10, 10))\n",
        "\n",
        "  cm = confusion_matrix(true_labels, pred_labels)\n",
        "  cm_norm = cm.astype('float') / cm.sum(axis=1)[:, np.newaxis]  # normalize the confusion matrix\n",
        "  for pair in np.argwhere(np.isnan(cm_norm)):\n",
        "    cm_norm[pair[0]][pair[1]] = 0\n",
        "  cm_score = np.trace(cm_norm)\n",
        "\n",
        "  annot = np.zeros_like(cm, dtype=object)\n",
        "  for i in range(annot.shape[0]):  # Creates an annotation array for the heatmap\n",
        "    for j in range(annot.shape[1]):\n",
        "      annot[i][j] = f'{cm[i][j]}\\n{round(cm_norm[i][j] * 100, ndigits=3)}%'\n",
        "\n",
        "  ax = sns.heatmap(cm_norm, annot=annot, fmt='', cbar=True, cmap=plt.cm.magma, vmin=0, ax=ax) # plot the confusion matrix\n",
        "\n",
        "  ax.set(title=f'CM Score = {cm_score}', xlabel='Predicted Label', ylabel='Actual Label')\n",
        "\n",
        "  fig2.tight_layout()\n",
        "\n",
        "  return cm_score"
      ],
      "metadata": {
        "id": "dtFLh1_t5ti0"
      },
      "execution_count": null,
      "outputs": []
    },
    {
      "cell_type": "code",
      "source": [
        "# Your code here"
      ],
      "metadata": {
        "id": "Bs5Hy0FZ6Adr"
      },
      "execution_count": null,
      "outputs": []
    },
    {
      "cell_type": "markdown",
      "source": [
        "# Submission\n",
        "Once you've made a final model that you're happy with, please save it out with the following function. You will then upload this notebook (as an ```.ipynb``` file) and the saved model file using [this form](https://forms.gle/aZudRC8t1e5ffqcPA).\n",
        "\n",
        "NOTE: You only get one submission per team, so make sure that you're happy with everything before you submit the model. Also, while we'll take submissions that aren't pickle files (i.e. if you use a neural net or something), you have to figure out how to save it on your own."
      ],
      "metadata": {
        "id": "MQk4Wzw_t5iJ"
      }
    },
    {
      "cell_type": "code",
      "source": [
        "import pickle\n",
        "\n",
        "def save_model(model, filename):\n",
        "  with open(f'{filename}.pkl', 'wb') as f:\n",
        "    pickle.dump(model, f)\n",
        "  \n",
        "  print(f'Model saved to {filename}.pkl!')"
      ],
      "metadata": {
        "id": "VZdsojRHnvo3"
      },
      "execution_count": null,
      "outputs": []
    }
  ]
}